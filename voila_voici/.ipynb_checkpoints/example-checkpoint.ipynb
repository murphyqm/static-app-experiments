{
 "cells": [
  {
   "cell_type": "markdown",
   "id": "de211582-90ae-4bb2-bb4e-6ce5927e23a5",
   "metadata": {},
   "source": [
    "# Setting up basic plots\n",
    "\n",
    "This shows how you can go from a dataframe to a plot, to an app.\n",
    "\n",
    "You can open and run this entire notebook in Colab; this allows you to prototype and test code for use in a single-page Dash app without ever leaving your Colab/Jupyter notebook environment.\n",
    "\n",
    "<a target=\"_blank\" href=\"https://colab.research.google.com/github/murphyqm/dashboard-development/blob/main/jupyter-notebooks/geospatial_in_dash_2.ipynb\">\n",
    "  <img src=\"https://colab.research.google.com/assets/colab-badge.svg\" alt=\"Open In Colab\"/>\n",
    "</a>"
   ]
  },
  {
   "cell_type": "code",
   "execution_count": null,
   "id": "45aabee2-4c03-4ea6-b176-408eb4dd9a3b",
   "metadata": {},
   "outputs": [],
   "source": [
    "# !pip install dash\n",
    "from dash import Dash, html, dcc, callback, Output, Input\n",
    "import plotly.express as px\n",
    "import pandas as pd\n",
    "import plotly.graph_objects as go\n",
    "\n",
    "quakes = pd.read_csv('https://raw.githubusercontent.com/plotly/datasets/master/earthquakes-23k.csv')"
   ]
  },
  {
   "cell_type": "markdown",
   "id": "75760e6b-d9ab-466d-97d8-50c3d5b29afa",
   "metadata": {},
   "source": [
    "We can check the content of the dataframe, and see what the titles of the columns are:"
   ]
  },
  {
   "cell_type": "code",
   "execution_count": null,
   "id": "8ca79ad5-68c1-44cf-aeec-246fdc328806",
   "metadata": {},
   "outputs": [],
   "source": [
    "quakes.columns"
   ]
  },
  {
   "cell_type": "markdown",
   "id": "0265e69f-0874-477c-89e6-2db700d4d74c",
   "metadata": {},
   "source": [
    "We can plot the data using the plotly library, using the [Density map](https://plotly.com/python-api-reference/generated/plotly.graph_objects.Densitymap.html) function:"
   ]
  },
  {
   "cell_type": "code",
   "execution_count": null,
   "id": "cd14298c-da9c-479a-beff-e9c31234ad53",
   "metadata": {},
   "outputs": [],
   "source": [
    "fig = go.Figure(go.Densitymap(lat=quakes.Latitude, lon=quakes.Longitude, z=quakes.Magnitude,\n",
    "                                 radius=10))\n",
    "fig.update_layout(map_style=\"open-street-map\", map_center_lon=180)\n",
    "fig.update_layout(margin={\"r\":0,\"t\":0,\"l\":0,\"b\":0})\n",
    "fig.show()"
   ]
  },
  {
   "cell_type": "markdown",
   "id": "f6151731-a4df-45b5-a0cd-bcba580244d5",
   "metadata": {},
   "source": [
    "Let's also look at a scatter plot:"
   ]
  },
  {
   "cell_type": "code",
   "execution_count": null,
   "id": "3d45637c-ce98-4944-b20f-39350242c74c",
   "metadata": {},
   "outputs": [],
   "source": [
    "fig = go.Figure(go.Scattermap(lat=quakes.Latitude, lon=quakes.Longitude, mode='markers',\n",
    "    text=quakes[\"Magnitude\"],\n",
    "    marker=dict(\n",
    "        size=10,\n",
    "        color=quakes.Magnitude, #set color equal to a variable\n",
    "        opacity=0.4,\n",
    "        colorscale='Viridis', # one of plotly colorscales\n",
    "        showscale=True\n",
    "    )))\n",
    "fig.update_layout(map_style=\"carto-positron\", map_center_lon=180)\n",
    "fig.update_layout(margin={\"r\":0,\"t\":0,\"l\":0,\"b\":0})\n",
    "fig.show()"
   ]
  },
  {
   "cell_type": "markdown",
   "id": "7c7fa47c-67f7-4089-8e2b-9dd40b44c623",
   "metadata": {},
   "source": [
    "If we want to add in selectors for the data, we need to convert it to an app:"
   ]
  },
  {
   "cell_type": "code",
   "execution_count": null,
   "id": "193db09d-937b-4c0a-a14c-a4a3a019c99f",
   "metadata": {},
   "outputs": [],
   "source": [
    "# What do we want to be able to select for:\n",
    "\n",
    "quakes.Magnitude.unique()"
   ]
  },
  {
   "cell_type": "code",
   "execution_count": null,
   "id": "78e68217-f60e-4c3e-a9b4-f5fbbad30462",
   "metadata": {},
   "outputs": [],
   "source": [
    "app = Dash()\n",
    "\n",
    "app.layout = [\n",
    "    html.H1(children='Title of Dash App', style={'textAlign':'center'}),\n",
    "    dcc.RangeSlider(min=quakes.Magnitude.min(), max=quakes.Magnitude.max(), step=0.5, value=[quakes.Magnitude.min(), quakes.Magnitude.max()], id='magnitude-range'),\n",
    "    dcc.Graph(id='graph-content')\n",
    "]\n",
    "\n",
    "@callback(\n",
    "    Output('graph-content', 'figure'),\n",
    "    Input('magnitude-range', 'value')\n",
    ")\n",
    "def update_graph(value):\n",
    "    df = quakes[(quakes.Magnitude>=value[0]) & (quakes.Magnitude<=value[1])]\n",
    "    fig = go.Figure(go.Scattermap(lat=df.Latitude, lon=df.Longitude, mode='markers',\n",
    "    text=df[\"Magnitude\"],\n",
    "    marker=dict(\n",
    "        size=10,\n",
    "        color=df.Magnitude, #set color equal to a variable\n",
    "        cmin=quakes.Magnitude.min(),\n",
    "        cmax=quakes.Magnitude.max(),\n",
    "        opacity=0.4,\n",
    "        colorscale='Viridis', # one of plotly colorscales\n",
    "        showscale=True\n",
    "    )))\n",
    "    fig.update_layout(map_style=\"carto-positron\", map_center_lon=180)\n",
    "    fig.update_layout(margin={\"r\":0,\"t\":0,\"l\":0,\"b\":0})\n",
    "    return fig\n",
    "\n",
    "if __name__ == '__main__':\n",
    "    app.run(debug=True)"
   ]
  },
  {
   "cell_type": "code",
   "execution_count": null,
   "id": "10d845b9-1e6d-4160-aa93-0a54cd294727",
   "metadata": {},
   "outputs": [],
   "source": []
  },
  {
   "cell_type": "code",
   "execution_count": null,
   "id": "231beacc-6961-470d-9860-35a97b7984fe",
   "metadata": {},
   "outputs": [],
   "source": []
  }
 ],
 "metadata": {
  "kernelspec": {
   "display_name": "Python 3 (ipykernel)",
   "language": "python",
   "name": "python3"
  },
  "language_info": {
   "codemirror_mode": {
    "name": "ipython",
    "version": 3
   },
   "file_extension": ".py",
   "mimetype": "text/x-python",
   "name": "python",
   "nbconvert_exporter": "python",
   "pygments_lexer": "ipython3",
   "version": "3.9.21"
  }
 },
 "nbformat": 4,
 "nbformat_minor": 5
}